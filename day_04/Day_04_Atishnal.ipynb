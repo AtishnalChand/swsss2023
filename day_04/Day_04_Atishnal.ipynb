{
 "cells": [
  {
   "cell_type": "code",
   "execution_count": 9,
   "id": "74fa4a49-e24c-4c36-bceb-673ee75133c4",
   "metadata": {},
   "outputs": [],
   "source": [
    "# Importing the required packages\n",
    "import zipfile\n",
    "\n",
    "with zipfile.ZipFile('C:/Users/z5327332/Documents/Peng_Data/jena_climate_2009_2016.csv.zip', 'r') as zip_ref:\n",
    "    zip_ref.extractall('C:/Users/z5327332/Documents/Peng_Data/jena_climate_2009_2016/')"
   ]
  },
  {
   "cell_type": "code",
   "execution_count": 1,
   "id": "780bcd31-581d-4929-931c-52c0a0966940",
   "metadata": {},
   "outputs": [],
   "source": [
    "# Importing the required packages\n",
    "import pandas as pd\n",
    "\n",
    "csv_path = 'C:/Users/z5327332/Documents/Peng_Data/jena_climate_2009_2016/jena_climate_2009_2016.csv'\n",
    "df = pd.read_csv(csv_path)\n"
   ]
  },
  {
   "cell_type": "code",
   "execution_count": 3,
   "id": "3bad236e-7459-488b-90c5-2351845a94ba",
   "metadata": {},
   "outputs": [],
   "source": [
    "#%%\n",
    "\"\"\"\n",
    "TODO: Introduction to dataframe; data slicing, removing data from the \n",
    "dataframe, assessing first and last n-th elements\n",
    "\n",
    "\n",
    "\n",
    "\"\"\"\n",
    "#%%\n",
    "\"\"\"\n",
    "Plot a subset of data from the dataframe\n",
    "\"\"\"\n",
    "\n",
    "plot_cols = ['T (degC)', 'p (mbar)', 'rho (g/m**3)']\n"
   ]
  },
  {
   "cell_type": "code",
   "execution_count": null,
   "id": "11f7b72a-1d98-4bec-bcd5-77ebb7d362be",
   "metadata": {},
   "outputs": [],
   "source": []
  },
  {
   "cell_type": "code",
   "execution_count": null,
   "id": "6cf1c9be-1852-474a-83e6-79a4793a707c",
   "metadata": {},
   "outputs": [],
   "source": []
  }
 ],
 "metadata": {
  "kernelspec": {
   "display_name": "Python 3 (ipykernel)",
   "language": "python",
   "name": "python3"
  },
  "language_info": {
   "codemirror_mode": {
    "name": "ipython",
    "version": 3
   },
   "file_extension": ".py",
   "mimetype": "text/x-python",
   "name": "python",
   "nbconvert_exporter": "python",
   "pygments_lexer": "ipython3",
   "version": "3.9.7"
  }
 },
 "nbformat": 4,
 "nbformat_minor": 5
}
